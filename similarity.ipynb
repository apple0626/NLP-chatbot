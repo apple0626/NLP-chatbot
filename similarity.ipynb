{
 "cells": [
  {
   "cell_type": "code",
   "execution_count": 1,
   "id": "5963f136",
   "metadata": {},
   "outputs": [],
   "source": [
    "import nltk\n",
    "import math\n",
    "from sklearn.feature_extraction.text import TfidfVectorizer\n",
    "from sklearn.metrics.pairwise import cosine_similarity"
   ]
  },
  {
   "cell_type": "code",
   "execution_count": 2,
   "id": "1aa2f00b",
   "metadata": {},
   "outputs": [],
   "source": [
    "class TextSimilarityExample: \n",
    "    def __init__(self): \n",
    "        self.statements = [ # 유사도를 찾고자 하는 샘플 문장 정의\n",
    "            'ruled india',\n",
    "            'Chalukyas ruled Badami',\n",
    "            'So many kingdoms ruled India',\n",
    "            'Lalbagh is a botanical garden in India'\n",
    "        ]\n",
    "        \n",
    "    def TF(self, sentence): # 단어의 TF 계산\n",
    "        words = nltk.word_tokenize(sentence.lower()) # 문장을 소문자로 변환 후 모든 단어 추출\n",
    "        freq = nltk.FreqDist(words) # 단어의 빈도수 계산\n",
    "        dictionary = {}\n",
    "        \n",
    "        for key in freq.keys():\n",
    "            norm = freq[key] / float(len(words)) # 각 단어 빈도수를 한 문서의 전체 단어 수로 나누기(표준화된 빈도수 계산)\n",
    "            dictionary[key] = norm # 각 단어에 맞는 TF 저장\n",
    "            \n",
    "        return dictionary # tf 값이 포함된 딕셔너리 반환\n",
    "    \n",
    "    def IDF(self): # 단어의 IDF 계산\n",
    "        def idf(TotalNumberOfDocuments, NumberOfDocumentsWithThisWord): # IDF 계산 공식 정의\n",
    "            return 1.0 + math.log(TotalNumberOfDocuments / NumberOfDocumentsWithThisWord)\n",
    "        \n",
    "        numDocuments = len(self.statements) # 전체 문서 수\n",
    "        uniqueWords = {} # 단어 구별을 위한 딕셔너리 선언\n",
    "        idfValues = {} # idf 값 계산을 위한 딕셔너리 선언\n",
    "        \n",
    "        for sentence in self.statements: # 전체 문서에 대해 반복\n",
    "            for word in set(nltk.word_tokenize(sentence.lower())): # 각 문서에 대해 단어 유무 확인\n",
    "                if word not in uniqueWords: # 처음 보는 단어인 경우\n",
    "                    uniqueWords[word] = 1\n",
    "                else: # 다른 문서에서 있었던 단어인 경우\n",
    "                    uniqueWords[word] += 1\n",
    "                    \n",
    "        for word in uniqueWords: # 전체 단어에 대해 반복\n",
    "            idfValues[word] = idf(numDocuments, uniqueWords[word]) # 지역함수를 호출하여 IDF 계산\n",
    "            \n",
    "        return idfValues # IDF 값이 포함된 딕셔너리 반환\n",
    "    \n",
    "    def TF_IDF(self, query):\n",
    "        words = nltk.word_tokenize(query.lower()) # 쿼리 문자열을 토큰으로 분리\n",
    "        idf = self.IDF() # 전체 문서에 대한 IDF 계산\n",
    "        vectors = {}\n",
    "        \n",
    "        for sentence in self.statements: \n",
    "            tf = self.TF(sentence) # 각 문장에 대해 TF 계산\n",
    "            for word in words:\n",
    "                tfv = tf[word] if word in tf else 0.0 # 검색 쿼리의 각 단어에 대해 TF 계산\n",
    "                idfv = idf[word] if word in idf else 0.0 # 검색 쿼리의 각 단어에 대해 IDF 계산\n",
    "                mul = tfv * idfv # TF-IDF 계산\n",
    "                if word not in vectors: \n",
    "                    vectors[word] = [] \n",
    "                vectors[word].append(mul) # 검색 쿼리의 각 단어에 대한 TF-IDF 저장\n",
    "                \n",
    "        return vectors # 검색 쿼리의 각 단어에 대한 벡터 리스트 반환\n",
    "    \n",
    "    def displayVectors(self, vectors): # 벡터 내용 화면에 표시\n",
    "        print(self.statements)\n",
    "        for word in vectors:\n",
    "            print('{} -> {}'.format(word, vectors[word]))\n",
    "            \n",
    "    def cosineSimilarity(self): # 코사인 유사도 계산 함수 정의\n",
    "        vec = TfidfVectorizer() # vectorizer 객체 생성\n",
    "        matrix = vec.fit_transform(self.statements) # 관심 있는 모든 문서에 대해 TF-IDF 행렬 작성\n",
    "        for i in range(len(self.statements)):\n",
    "            print('\\tsimilarity of document {} with others'.format(i))\n",
    "            similarity = cosine_similarity(matrix[i:i+1], matrix)\n",
    "            print(similarity)\n",
    "            \n",
    "    def demo(self): # 이전에 정의한 모든 함수 실행\n",
    "        inputQuery = self.statements[0]\n",
    "        vectors = self.TF_IDF(inputQuery)\n",
    "        self.displayVectors(vectors)\n",
    "        self.cosineSimilarity()"
   ]
  },
  {
   "cell_type": "code",
   "execution_count": 3,
   "id": "c8a44a99",
   "metadata": {},
   "outputs": [
    {
     "name": "stdout",
     "output_type": "stream",
     "text": [
      "['ruled india', 'Chalukyas ruled Badami', 'So many kingdoms ruled India', 'Lalbagh is a botanical garden in India']\n",
      "ruled -> [0.6438410362258904, 0.42922735748392693, 0.2575364144903562, 0.0]\n",
      "india -> [0.6438410362258904, 0.0, 0.2575364144903562, 0.18395458177882582]\n",
      "\tsimilarity of document 0 with others\n",
      "[[1.         0.29088811 0.46216171 0.19409143]]\n",
      "\tsimilarity of document 1 with others\n",
      "[[0.29088811 1.         0.13443735 0.        ]]\n",
      "\tsimilarity of document 2 with others\n",
      "[[0.46216171 0.13443735 1.         0.08970163]]\n",
      "\tsimilarity of document 3 with others\n",
      "[[0.19409143 0.         0.08970163 1.        ]]\n"
     ]
    }
   ],
   "source": [
    "similarity = TextSimilarityExample()\n",
    "similarity.demo()"
   ]
  }
 ],
 "metadata": {
  "kernelspec": {
   "display_name": "Python 3 (ipykernel)",
   "language": "python",
   "name": "python3"
  },
  "language_info": {
   "codemirror_mode": {
    "name": "ipython",
    "version": 3
   },
   "file_extension": ".py",
   "mimetype": "text/x-python",
   "name": "python",
   "nbconvert_exporter": "python",
   "pygments_lexer": "ipython3",
   "version": "3.9.7"
  }
 },
 "nbformat": 4,
 "nbformat_minor": 5
}
