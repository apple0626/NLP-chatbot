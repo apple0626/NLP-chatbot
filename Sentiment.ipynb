{
 "cells": [
  {
   "cell_type": "code",
   "execution_count": 1,
   "id": "39daa63c",
   "metadata": {},
   "outputs": [],
   "source": [
    "import nltk\n",
    "import nltk.sentiment.sentiment_analyzer\n",
    "import nltk.sentiment.util"
   ]
  },
  {
   "cell_type": "code",
   "execution_count": 2,
   "id": "f7b3ebd5",
   "metadata": {},
   "outputs": [],
   "source": [
    "# 주어진 단어가 텍스트에 존재하는지 여부를 나타내는 입력 단어 딕셔너리 출력\n",
    "def wordBasedSentiment():\n",
    "    positive_words = ['love', 'hope', 'joy']\n",
    "    text = 'Rainfall this year brings lot of hope and joy to Farmers.'.split()\n",
    "    analysis = nltk.sentiment.util.extract_unigram_feats(text, positive_words)\n",
    "    print(' -- single word sentiment --')\n",
    "    print(analysis)"
   ]
  },
  {
   "cell_type": "code",
   "execution_count": 3,
   "id": "b589876d",
   "metadata": {},
   "outputs": [],
   "source": [
    "# 단어 쌍이 문장에 있는지 여부를 나타내는 딕셔너리 출력\n",
    "def multiWordBaseSentiment():\n",
    "    word_sets = [('heavy', 'rains'), ('flood', 'bengaluru')]\n",
    "    text = 'heavy rains cause flash flooding in bengaluru'.split()\n",
    "    analysis = nltk.sentiment.util.extract_bigram_feats(text, word_sets)\n",
    "    print(' -- multi word sentiment --')\n",
    "    print(analysis)"
   ]
  },
  {
   "cell_type": "code",
   "execution_count": 4,
   "id": "977c66ed",
   "metadata": {},
   "outputs": [],
   "source": [
    "# 부정적 의미를 가진 모든 단어에 대해 특수 접미사 _NEG와 함께 문장의 모든 단어 리스트 반환\n",
    "def markNegativity():\n",
    "    text = 'Rainfall last year did not bring joy to Farmers'.split()\n",
    "    negation = nltk.sentiment.util.mark_negation(text)\n",
    "    print(' -- negativity --')\n",
    "    print(negation)"
   ]
  },
  {
   "cell_type": "code",
   "execution_count": 5,
   "id": "44b7a7aa",
   "metadata": {},
   "outputs": [
    {
     "name": "stdout",
     "output_type": "stream",
     "text": [
      " -- single word sentiment --\n",
      "{'contains(love)': False, 'contains(hope)': True, 'contains(joy)': True}\n",
      " -- multi word sentiment --\n",
      "{'contains(heavy - rains)': True, 'contains(flood - bengaluru)': False}\n",
      " -- negativity --\n",
      "['Rainfall', 'last', 'year', 'did', 'not', 'bring_NEG', 'joy_NEG', 'to_NEG', 'Farmers_NEG']\n"
     ]
    }
   ],
   "source": [
    "if __name__ == '__main__':\n",
    "    wordBasedSentiment()\n",
    "    multiWordBaseSentiment()\n",
    "    markNegativity()"
   ]
  }
 ],
 "metadata": {
  "kernelspec": {
   "display_name": "Python 3 (ipykernel)",
   "language": "python",
   "name": "python3"
  },
  "language_info": {
   "codemirror_mode": {
    "name": "ipython",
    "version": 3
   },
   "file_extension": ".py",
   "mimetype": "text/x-python",
   "name": "python",
   "nbconvert_exporter": "python",
   "pygments_lexer": "ipython3",
   "version": "3.9.7"
  }
 },
 "nbformat": 4,
 "nbformat_minor": 5
}
