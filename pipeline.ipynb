{
 "cells": [
  {
   "cell_type": "code",
   "execution_count": 1,
   "id": "32d8d04d",
   "metadata": {},
   "outputs": [],
   "source": [
    "import nltk # 자연어 툴킷\n",
    "import threading # 스레딩 기반 병렬 처리\n",
    "import queue # 대기열 라이브러리\n",
    "import feedparser # 구문 분석(파싱) 라이브러리\n",
    "import uuid # uuid 버전 1, 3, 4, 5 생성 라이브러리"
   ]
  },
  {
   "cell_type": "code",
   "execution_count": 2,
   "id": "93ac016e",
   "metadata": {},
   "outputs": [],
   "source": [
    "threads = [] # 프로그램의 모든 스레드 추적\n",
    "queues = [queue.Queue(), queue.Queue()] # 변수 queue에 두 개의 대기열 목록 생성(토큰화된 문장 저장, 분석된 모든 품사 단어 저장)"
   ]
  },
  {
   "cell_type": "code",
   "execution_count": 3,
   "id": "12e95900",
   "metadata": {},
   "outputs": [],
   "source": [
    "# 샘플 RSS 피드를 읽고 단어와 텍스트의 고유 식별자 함께 저장\n",
    "def extractWords():\n",
    "    url = 'https://timesofindia.indiatimes.com/rssfeeds/1081479906.cms'\n",
    "    feed = feedparser.parse(url) # URL 내용 다운로드 후 뉴스항목(제목과 요약 키가 있는 딕셔너리) 리스트로 변환\n",
    "    for entry in feed['entries'][:5]: # RSS 피드의 5개 항목을 가져와 반복\n",
    "        text = entry['title'] # 현재 RSS 피드의 제목이 text로 할당\n",
    "        if 'ex' in text: # 제목에 'ex'가 포함되어 있으면 건너뛰기\n",
    "            continue\n",
    "\n",
    "        words = nltk.word_tokenize(text) # 입력 테스트를 단어로 분리\n",
    "        data = {'uuid' : uuid.uuid4(), 'input' : words} # uuid 및 입력 단어 저장\n",
    "        queues[0].put(data, True) # 딕셔너리를 queues[0]에 저장, 두 번째 인수는 대기열이 가득 찬 경우 일시 중지\n",
    "        print('>> {} : {}'.format(data['uuid'], text)) # 고유 ID와 처리 중인 RSS 항목 출력"
   ]
  },
  {
   "cell_type": "code",
   "execution_count": 4,
   "id": "d4a51b77",
   "metadata": {},
   "outputs": [],
   "source": [
    "def extractPOS():\n",
    "    while True:\n",
    "        if queues[0].empty(): # 첫 번째 대기열에 데이터가 없을 경우\n",
    "            break\n",
    "        else: # 첫 번째 대기열에 데이터가 있을 경우\n",
    "            data = queues[0].get() # 대기열에서 첫 번째 항목 가져오기\n",
    "            words = data['input'] \n",
    "            postags = nltk.pos_tag(words) # 품사 태깅 : 첫 번째 요소는 원래 단어, 두 번째 요소는 품사\n",
    "            queues[0].task_done() # 첫 번째 대기열을 처리 완료로 업데이트\n",
    "            queues[1].put({'uuid' : data['uuid'], 'input' : postags}, True) # 품사 태깅된 단어 목록을 두 번째 대기열에 저장"
   ]
  },
  {
   "cell_type": "code",
   "execution_count": 5,
   "id": "dfaa3b4e",
   "metadata": {},
   "outputs": [],
   "source": [
    "def extractNE(): # 단어에서 개체명 추출\n",
    "    while True:\n",
    "        if queues[1].empty(): # 두 번째 대기열에 데이터가 없을 경우\n",
    "            break\n",
    "        else: # 두 번째 대기열에 데이터가 있을 경우\n",
    "            data = queues[1].get() # 두 번째 대기열에서 데이터 가져오기\n",
    "            postags = data['input'] # 항목을 가져와서 저장\n",
    "            queues[1].task_done() # 방금 선택한 항목에 대해 처리 완료 표시\n",
    "            \n",
    "            chunks = nltk.ne_chunk(postags, binary = False) # 개체명 태깅 수행\n",
    "            print(' << {} : '.format(data['uuid']), end = '') # 현재 UUID 출력\n",
    "            for path in chunks: # chunks를 하나씩 추출\n",
    "                try: # 개체명이 태깅된 경우\n",
    "                    label = path.label()  \n",
    "                    print(path, end = ', ') # 개체명이 태그된 단어 출력\n",
    "                except:\n",
    "                    pass\n",
    "            print()"
   ]
  },
  {
   "cell_type": "code",
   "execution_count": 6,
   "id": "1782a30f",
   "metadata": {},
   "outputs": [],
   "source": [
    "def runProgram(): # 스레드를 이용해 파이프라인 구성\n",
    "    # extractWords 함수를 갖는 스레드 생성 후 시작, threads 리스트에 추가\n",
    "    e = threading.Thread(target = extractWords()) \n",
    "    e.start()\n",
    "    threads.append(e)\n",
    "    \n",
    "    # extractPOS 함수를 갖는 스레드 생성 후 시작, threads 리스트에 추가\n",
    "    p = threading.Thread(target = extractPOS())\n",
    "    p.start()\n",
    "    threads.append(p)\n",
    "    \n",
    "    # extractNE 함수를 갖는 스레드 생성 후 시작, threads 리스트에 추가\n",
    "    n = threading.Thread(target= extractNE())\n",
    "    n.start()\n",
    "    threads.append(n)\n",
    "    \n",
    "    # 모든 처리가 완료되면 할당된 자원 해제\n",
    "    queues[0].join()\n",
    "    queues[1].join()\n",
    "    \n",
    "    # thread에 있는 모든 항목 반복 후 할당된 자원 해제\n",
    "    for t in threads:\n",
    "        t.join()"
   ]
  },
  {
   "cell_type": "code",
   "execution_count": 7,
   "id": "bf8d3403",
   "metadata": {},
   "outputs": [
    {
     "name": "stdout",
     "output_type": "stream",
     "text": [
      ">> 2b9f18bd-010a-471a-9579-a7776340de45 : 'Was not taken seriously in South film industry'\n",
      ">> 4d789d40-9c23-4a92-b29b-bcb624881bf2 : SRK, Salman to shoot for Tiger 3 in June\n",
      ">> d6ff2cc8-3d11-41a6-8e35-6736c505c19c : RRR box office collection day 2\n",
      ">> 7397010b-29b7-434f-aaad-054ed295c58c : Similar series that screened at the same time\n",
      ">> bc0d76de-6944-4f48-a828-35154e8faf61 : Anupam: Salman congratulated for Kashmir Files\n",
      " << 2b9f18bd-010a-471a-9579-a7776340de45 : (GPE South/NNP), \n",
      " << 4d789d40-9c23-4a92-b29b-bcb624881bf2 : (PERSON Salman/NNP), \n",
      " << d6ff2cc8-3d11-41a6-8e35-6736c505c19c : \n",
      " << 7397010b-29b7-434f-aaad-054ed295c58c : (GPE Similar/JJ), \n",
      " << bc0d76de-6944-4f48-a828-35154e8faf61 : (GPE Anupam/NN), (PERSON Salman/NNP), (PERSON Kashmir/NNP Files/NNP), \n"
     ]
    }
   ],
   "source": [
    "if __name__ == '__main__': # 메인 스레드와 함께 실행\n",
    "    runProgram()"
   ]
  }
 ],
 "metadata": {
  "kernelspec": {
   "display_name": "Python 3 (ipykernel)",
   "language": "python",
   "name": "python3"
  },
  "language_info": {
   "codemirror_mode": {
    "name": "ipython",
    "version": 3
   },
   "file_extension": ".py",
   "mimetype": "text/x-python",
   "name": "python",
   "nbconvert_exporter": "python",
   "pygments_lexer": "ipython3",
   "version": "3.9.7"
  }
 },
 "nbformat": 4,
 "nbformat_minor": 5
}
